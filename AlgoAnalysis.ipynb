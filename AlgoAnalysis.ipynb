{
 "cells": [
  {
   "cell_type": "code",
   "execution_count": 1,
   "metadata": {},
   "outputs": [],
   "source": [
    "from bruteForce import bruteForce\n",
    "from boyersMoore import boyersMoore\n",
    "from KMP import KMPAlgo\n",
    "import time\n",
    "import random\n",
    "import string"
   ]
  },
  {
   "cell_type": "code",
   "execution_count": 2,
   "metadata": {},
   "outputs": [],
   "source": [
    "#Look at 3 different types of string searches\n",
    "#1. Strings\n",
    "#2. Numbers\n",
    "#3. DNA sequences"
   ]
  },
  {
   "cell_type": "code",
   "execution_count": 3,
   "metadata": {},
   "outputs": [],
   "source": [
    "def get_random_string(length):\n",
    "    letters = string.ascii_uppercase\n",
    "    result_str = ''.join(random.choice(letters) for i in range(length))\n",
    "    return result_str\n",
    "\n",
    "def get_random_numbers(length):\n",
    "    numbers = string.digits\n",
    "    result_number = ''.join(random.choice(numbers) for i in range(length))\n",
    "    return result_number\n",
    "\n",
    "def get_random_dna(length):\n",
    "    letters = \"ACTG\"\n",
    "    result_seq = ''.join(random.choice(letters) for i in range(length))\n",
    "    return result_seq"
   ]
  },
  {
   "cell_type": "code",
   "execution_count": 4,
   "metadata": {},
   "outputs": [],
   "source": [
    "testString = get_random_string(1000000)"
   ]
  },
  {
   "cell_type": "code",
   "execution_count": 5,
   "metadata": {},
   "outputs": [],
   "source": [
    "pattern = testString[111111:111121]"
   ]
  },
  {
   "cell_type": "code",
   "execution_count": 6,
   "metadata": {},
   "outputs": [
    {
     "name": "stdout",
     "output_type": "stream",
     "text": [
      "10\n"
     ]
    }
   ],
   "source": [
    "print(len(pattern))"
   ]
  },
  {
   "cell_type": "markdown",
   "metadata": {},
   "source": [
    "# String Search with all 3 algorithms\n",
    "Text length = 1,000,000<br />\n",
    "Pattern length = 10"
   ]
  },
  {
   "cell_type": "code",
   "execution_count": 7,
   "metadata": {},
   "outputs": [
    {
     "name": "stdout",
     "output_type": "stream",
     "text": [
      "String search for pattern length = 10\n",
      "String length = 1,000,000\n",
      "Average Times of 100 repeats\n",
      "Avg of Brute Force: 0.7226526927947998\n",
      "Avg of KMP: 0.25641685485839844\n",
      "Avg of Boyer Moore: 0.11867802143096924\n"
     ]
    }
   ],
   "source": [
    "bfTotalTime = 0\n",
    "kmpTotalTime = 0\n",
    "bmTotalTime = 0\n",
    "\n",
    "print(\"String search for pattern length = 10\")\n",
    "print(\"String length = 1,000,000\")\n",
    "print(\"Average Times of 100 repeats\")\n",
    "\n",
    "for i in range(100):\n",
    "    tic = time.time()\n",
    "    bruteForce(testString, pattern)\n",
    "    toc = time.time()\n",
    "    bfTotalTime += toc-tic\n",
    "print(f\"Avg of Brute Force: {bfTotalTime/100}\")\n",
    "    \n",
    "for i in range(100):    \n",
    "    tic = time.time()\n",
    "    KMPAlgo(testString, pattern)\n",
    "    toc = time.time()\n",
    "    kmpTotalTime += toc-tic\n",
    "print(f\"Avg of KMP: {kmpTotalTime/100}\")\n",
    "    \n",
    "for i in range(100):\n",
    "    tic =  time.time()\n",
    "    boyersMoore(testString, pattern)\n",
    "    toc = time.time()\n",
    "    bmTotalTime += toc-tic\n",
    "print(f\"Avg of Boyer Moore: {bmTotalTime/100}\")"
   ]
  },
  {
   "cell_type": "markdown",
   "metadata": {},
   "source": [
    "# Number Search with all 3 algorithms\n",
    "Number length = 1,000,000<br />\n",
    "Pattern length = 10"
   ]
  },
  {
   "cell_type": "code",
   "execution_count": 8,
   "metadata": {},
   "outputs": [],
   "source": [
    "testNumber = str(get_random_numbers(1000000))\n",
    "numPattern = testNumber[111111:111121]"
   ]
  },
  {
   "cell_type": "code",
   "execution_count": 9,
   "metadata": {},
   "outputs": [
    {
     "name": "stdout",
     "output_type": "stream",
     "text": [
      "2534236887\n"
     ]
    }
   ],
   "source": [
    "print(numPattern)"
   ]
  },
  {
   "cell_type": "code",
   "execution_count": 10,
   "metadata": {},
   "outputs": [
    {
     "name": "stdout",
     "output_type": "stream",
     "text": [
      "Number search for pattern length = 10\n",
      "Number length = 1,000,000\n",
      "Average Times of 100 repeats\n",
      "Avg of Brute Force: 0.7161663508415222\n",
      "Avg of KMP: 0.3211190176010132\n",
      "Avg of Boyer Moore: 0.17631335020065309\n"
     ]
    }
   ],
   "source": [
    "bfTotalTime = 0\n",
    "kmpTotalTime = 0\n",
    "bmTotalTime = 0\n",
    "\n",
    "print(\"Number search for pattern length = 10\")\n",
    "print(\"Number length = 1,000,000\")\n",
    "print(\"Average Times of 100 repeats\")\n",
    "\n",
    "for i in range(100):\n",
    "    tic = time.time()\n",
    "    bruteForce(testNumber, numPattern)\n",
    "    toc = time.time()\n",
    "    bfTotalTime += toc-tic\n",
    "print(f\"Avg of Brute Force: {bfTotalTime/100}\")\n",
    "\n",
    "for i in range(100):    \n",
    "    tic = time.time()\n",
    "    KMPAlgo(testNumber, numPattern)\n",
    "    toc = time.time()\n",
    "    kmpTotalTime += toc-tic\n",
    "print(f\"Avg of KMP: {kmpTotalTime/100}\")\n",
    "\n",
    "for i in range(100):    \n",
    "    tic =  time.time()\n",
    "    boyersMoore(testNumber, numPattern)\n",
    "    toc = time.time()\n",
    "    bmTotalTime += toc-tic\n",
    "print(f\"Avg of Boyer Moore: {bmTotalTime/100}\")"
   ]
  },
  {
   "cell_type": "markdown",
   "metadata": {},
   "source": [
    "# DNA Sequence Search with all 3 algorithms\n",
    "Sequence length = 1,000,000<br />\n",
    "Pattern length = 10"
   ]
  },
  {
   "cell_type": "code",
   "execution_count": 11,
   "metadata": {},
   "outputs": [],
   "source": [
    "testSequence = get_random_dna(1000000)\n",
    "dnaPattern = testSequence[111111:111121]"
   ]
  },
  {
   "cell_type": "code",
   "execution_count": 12,
   "metadata": {},
   "outputs": [
    {
     "name": "stdout",
     "output_type": "stream",
     "text": [
      "Sequence search for pattern length = 10\n",
      "Sequence length = 1,000,000\n",
      "Average Times of 100 repeats\n",
      "Avg of Brute Force: 0.8626134610176086\n",
      "Avg of KMP: 0.3667606425285339\n",
      "Avg of Boyer Moore: 0.22621546030044556\n"
     ]
    }
   ],
   "source": [
    "bfTotalTime = 0\n",
    "kmpTotalTime = 0\n",
    "bmTotalTime = 0\n",
    "\n",
    "print(\"Sequence search for pattern length = 10\")\n",
    "print(\"Sequence length = 1,000,000\")\n",
    "print(\"Average Times of 100 repeats\")\n",
    "\n",
    "for i in range(100):\n",
    "    tic = time.time()\n",
    "    bruteForce(testSequence, dnaPattern)\n",
    "    toc = time.time()\n",
    "    bfTotalTime += toc-tic\n",
    "print(f\"Avg of Brute Force: {bfTotalTime/100}\")\n",
    "7\n",
    "for i in range(100):    \n",
    "    tic = time.time()\n",
    "    KMPAlgo(testSequence, dnaPattern)\n",
    "    toc = time.time()\n",
    "    kmpTotalTime += toc-tic\n",
    "print(f\"Avg of KMP: {kmpTotalTime/100}\")\n",
    "\n",
    "for i in range(100):    \n",
    "    tic =  time.time()\n",
    "    boyersMoore(testSequence, dnaPattern)\n",
    "    toc = time.time()\n",
    "    bmTotalTime += toc-tic\n",
    "print(f\"Avg of Boyer Moore: {bmTotalTime/100}\")"
   ]
  },
  {
   "cell_type": "markdown",
   "metadata": {},
   "source": [
    "### Now we increase the pattern string size to 100 and see how the time taken increase"
   ]
  },
  {
   "cell_type": "markdown",
   "metadata": {},
   "source": [
    "# Text Search with all 3 algorithms\n",
    "Text length = 1,000,000<br />\n",
    "Pattern length = 100"
   ]
  },
  {
   "cell_type": "code",
   "execution_count": 13,
   "metadata": {},
   "outputs": [],
   "source": [
    "testString = get_random_string(1000000)\n",
    "pattern = testString[111111:111211]"
   ]
  },
  {
   "cell_type": "code",
   "execution_count": 14,
   "metadata": {},
   "outputs": [
    {
     "name": "stdout",
     "output_type": "stream",
     "text": [
      "String search for pattern length = 100\n",
      "String length = 1,000,000\n",
      "Average Times of 100 repeats\n",
      "Avg of Brute Force: 0.547447202205658\n",
      "Avg of KMP: 0.2766405200958252\n",
      "Avg of Boyer Moore: 0.047881286144256595\n"
     ]
    }
   ],
   "source": [
    "bfTotalTime = 0\n",
    "kmpTotalTime = 0\n",
    "bmTotalTime = 0\n",
    "\n",
    "print(\"String search for pattern length = 100\")\n",
    "print(\"String length = 1,000,000\")\n",
    "print(\"Average Times of 100 repeats\")\n",
    "\n",
    "for i in range(100):\n",
    "    tic = time.time()\n",
    "    bruteForce(testString, pattern)\n",
    "    toc = time.time()\n",
    "    bfTotalTime += toc-tic\n",
    "print(f\"Avg of Brute Force: {bfTotalTime/100}\")\n",
    "    \n",
    "for i in range(100):    \n",
    "    tic = time.time()\n",
    "    KMPAlgo(testString, pattern)\n",
    "    toc = time.time()\n",
    "    kmpTotalTime += toc-tic\n",
    "print(f\"Avg of KMP: {kmpTotalTime/100}\")\n",
    "    \n",
    "for i in range(100):\n",
    "    tic =  time.time()\n",
    "    boyersMoore(testString, pattern)\n",
    "    toc = time.time()\n",
    "    bmTotalTime += toc-tic\n",
    "print(f\"Avg of Boyer Moore: {bmTotalTime/100}\")"
   ]
  },
  {
   "cell_type": "markdown",
   "metadata": {},
   "source": [
    "# Number Search with all 3 algorithms\n",
    "Number length = 1,000,000<br />\n",
    "Pattern length = 100"
   ]
  },
  {
   "cell_type": "code",
   "execution_count": 15,
   "metadata": {},
   "outputs": [],
   "source": [
    "testNumber = str(get_random_numbers(1000000))\n",
    "numPattern = testNumber[111111:111211]"
   ]
  },
  {
   "cell_type": "code",
   "execution_count": 16,
   "metadata": {},
   "outputs": [
    {
     "name": "stdout",
     "output_type": "stream",
     "text": [
      "Number search for pattern length = 100\n",
      "Number length = 1,000,000\n",
      "Average Times of 100 repeats\n",
      "Avg of Brute Force: 0.6082146739959717\n",
      "Avg of KMP: 0.24858880043029785\n",
      "Avg of Boyer Moore: 0.09042168378829957\n"
     ]
    }
   ],
   "source": [
    "bfTotalTime = 0\n",
    "kmpTotalTime = 0\n",
    "bmTotalTime = 0\n",
    "\n",
    "print(\"Number search for pattern length = 100\")\n",
    "print(\"Number length = 1,000,000\")\n",
    "print(\"Average Times of 100 repeats\")\n",
    "\n",
    "for i in range(100):\n",
    "    tic = time.time()\n",
    "    bruteForce(testNumber, numPattern)\n",
    "    toc = time.time()\n",
    "    bfTotalTime += toc-tic\n",
    "print(f\"Avg of Brute Force: {bfTotalTime/100}\")\n",
    "\n",
    "for i in range(100):    \n",
    "    tic = time.time()\n",
    "    KMPAlgo(testNumber, numPattern)\n",
    "    toc = time.time()\n",
    "    kmpTotalTime += toc-tic\n",
    "print(f\"Avg of KMP: {kmpTotalTime/100}\")\n",
    "\n",
    "for i in range(100):    \n",
    "    tic =  time.time()\n",
    "    boyersMoore(testNumber, numPattern)\n",
    "    toc = time.time()\n",
    "    bmTotalTime += toc-tic\n",
    "print(f\"Avg of Boyer Moore: {bmTotalTime/100}\")"
   ]
  },
  {
   "cell_type": "markdown",
   "metadata": {},
   "source": [
    "# Sequence Search with all 3 algorithms\n",
    "Sequence length = 1,000,000<br />\n",
    "Pattern length = 100"
   ]
  },
  {
   "cell_type": "code",
   "execution_count": 17,
   "metadata": {},
   "outputs": [],
   "source": [
    "testSequence = get_random_dna(1000000)\n",
    "dnaPattern = testSequence[111111:111211]"
   ]
  },
  {
   "cell_type": "code",
   "execution_count": 18,
   "metadata": {},
   "outputs": [
    {
     "name": "stdout",
     "output_type": "stream",
     "text": [
      "Sequence search for pattern length = 100\n",
      "Sequence length = 1,000,000\n",
      "Average Times of 100 repeats\n",
      "Avg of Brute Force: 0.5007638144493103\n",
      "Avg of KMP: 0.2304181170463562\n",
      "Avg of Boyer Moore: 0.18000470638275146\n"
     ]
    }
   ],
   "source": [
    "bfTotalTime = 0\n",
    "kmpTotalTime = 0\n",
    "bmTotalTime = 0\n",
    "\n",
    "print(\"Sequence search for pattern length = 100\")\n",
    "print(\"Sequence length = 1,000,000\")\n",
    "print(\"Average Times of 100 repeats\")\n",
    "\n",
    "for i in range(100):\n",
    "    tic = time.time()\n",
    "    bruteForce(testSequence, dnaPattern)\n",
    "    toc = time.time()\n",
    "    bfTotalTime += toc-tic\n",
    "print(f\"Avg of Brute Force: {bfTotalTime/100}\")\n",
    "\n",
    "for i in range(100):    \n",
    "    tic = time.time()\n",
    "    KMPAlgo(testSequence, dnaPattern)\n",
    "    toc = time.time()\n",
    "    kmpTotalTime += toc-tic\n",
    "print(f\"Avg of KMP: {kmpTotalTime/100}\")\n",
    "\n",
    "for i in range(100):    \n",
    "    tic =  time.time()\n",
    "    boyersMoore(testSequence, dnaPattern)\n",
    "    toc = time.time()\n",
    "    bmTotalTime += toc-tic\n",
    "print(f\"Avg of Boyer Moore: {bmTotalTime/100}\")"
   ]
  },
  {
   "cell_type": "code",
   "execution_count": null,
   "metadata": {},
   "outputs": [],
   "source": []
  }
 ],
 "metadata": {
  "kernelspec": {
   "display_name": "Python 3",
   "language": "python",
   "name": "python3"
  },
  "language_info": {
   "codemirror_mode": {
    "name": "ipython",
    "version": 3
   },
   "file_extension": ".py",
   "mimetype": "text/x-python",
   "name": "python",
   "nbconvert_exporter": "python",
   "pygments_lexer": "ipython3",
   "version": "3.7.3"
  }
 },
 "nbformat": 4,
 "nbformat_minor": 2
}
